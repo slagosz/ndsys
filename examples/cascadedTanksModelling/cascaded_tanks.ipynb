{
 "cells": [
  {
   "cell_type": "code",
   "execution_count": 1,
   "metadata": {},
   "outputs": [],
   "source": [
    "from scipy.io import loadmat\n",
    "from sklearn.preprocessing import MaxAbsScaler\n",
    "from sklearn.pipeline import make_pipeline\n",
    "from ndsys.optimizers import EntropicDualAveraging\n",
    "from ndsys.features.volterra import VolterraFeatures, prepare_data"
   ]
  },
  {
   "cell_type": "markdown",
   "metadata": {},
   "source": [
    "Load data recorded from the cascaded tanks system (the benchmark was downloaded from https://www.nonlinearbenchmark.org/benchmarks/cascaded-tanks; see the link for more details)"
   ]
  },
  {
   "cell_type": "code",
   "execution_count": 2,
   "metadata": {
    "pycharm": {
     "name": "#%%\n"
    }
   },
   "outputs": [],
   "source": [
    "data = loadmat('dataBenchmark.mat')\n",
    "\n",
    "x_est = data['uEst']\n",
    "y_est = data['yEst'].ravel()\n",
    "x_val = data['uVal']\n",
    "y_val = data['yVal'].ravel()"
   ]
  },
  {
   "cell_type": "markdown",
   "metadata": {},
   "source": [
    "Set parameters of the model and the algorithm"
   ]
  },
  {
   "cell_type": "code",
   "execution_count": 3,
   "metadata": {
    "pycharm": {
     "name": "#%%\n"
    }
   },
   "outputs": [],
   "source": [
    "kernels = (100, 100, 20)\n",
    "R = 25\n",
    "learning_rate = 'adaptive'"
   ]
  },
  {
   "cell_type": "markdown",
   "metadata": {},
   "source": [
    "Since we handle data recorded from a dynamical system, an additional preprocessing step is needed"
   ]
  },
  {
   "cell_type": "code",
   "execution_count": 4,
   "metadata": {
    "pycharm": {
     "name": "#%%\n"
    }
   },
   "outputs": [],
   "source": [
    "x_est, y_est = prepare_data(x_est, y_est, kernels)\n",
    "x_val, y_val = prepare_data(x_val, y_val, kernels, x0='zeros')"
   ]
  },
  {
   "cell_type": "markdown",
   "metadata": {},
   "source": [
    "Create a pipeline"
   ]
  },
  {
   "cell_type": "code",
   "execution_count": 5,
   "metadata": {
    "pycharm": {
     "name": "#%%\n"
    }
   },
   "outputs": [],
   "source": [
    "est = make_pipeline(MaxAbsScaler(),\n",
    "                    VolterraFeatures(kernels),\n",
    "                    EntropicDualAveraging(l1_constraint=R, learning_rate=learning_rate))"
   ]
  },
  {
   "cell_type": "markdown",
   "metadata": {},
   "source": [
    "Fit and predict!"
   ]
  },
  {
   "cell_type": "code",
   "execution_count": null,
   "metadata": {
    "pycharm": {
     "is_executing": true,
     "name": "#%%\n"
    }
   },
   "outputs": [],
   "source": [
    "est.fit(x_est, y_est)\n",
    "y_pred = est.predict(x_val)"
   ]
  },
  {
   "cell_type": "markdown",
   "metadata": {},
   "source": [
    "Finally, we can plot the data"
   ]
  },
  {
   "cell_type": "code",
   "execution_count": null,
   "metadata": {
    "pycharm": {
     "is_executing": true,
     "name": "#%%\n"
    }
   },
   "outputs": [],
   "source": [
    "import matplotlib.pyplot as plt\n",
    "plt.clf()\n",
    "plt.rcdefaults()\n",
    "plt.rcParams['text.usetex'] = True\n",
    "plt.rc('font', family='serif')\n",
    "plt.rc('font', size=10)\n",
    "plt.rc('axes', labelsize='small')\n",
    "plt.rc('xtick', labelsize='small')\n",
    "plt.rc('ytick', labelsize='small')\n",
    "plt.rc('legend', fontsize='small')\n",
    "\n",
    "plt.figure()\n",
    "\n",
    "plt.plot(y_pred)\n",
    "plt.plot(y_val, '--')\n",
    "plt.xlabel('t')\n",
    "plt.ylabel('output')\n",
    "plt.legend(['Model', 'True system'])\n",
    "plt.grid()\n",
    "plt.show()"
   ]
  }
 ],
 "metadata": {
  "kernelspec": {
   "display_name": "Python 3 (ipykernel)",
   "language": "python",
   "name": "python3"
  },
  "language_info": {
   "codemirror_mode": {
    "name": "ipython",
    "version": 3
   },
   "file_extension": ".py",
   "mimetype": "text/x-python",
   "name": "python",
   "nbconvert_exporter": "python",
   "pygments_lexer": "ipython3",
   "version": "3.8.9"
  }
 },
 "nbformat": 4,
 "nbformat_minor": 1
}